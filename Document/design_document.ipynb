{
 "cells": [
  {
   "cell_type": "markdown",
   "id": "0c75b94c",
   "metadata": {},
   "source": [
    "# Delivery Fare Estimation - Design Document"
   ]
  },
  {
   "cell_type": "markdown",
   "id": "e149af51",
   "metadata": {},
   "source": [
    "## Personal Info\n",
    "- **Name**: Erfan Mahmoudi\n",
    "- **PhoneNumber**: +989150643158\n",
    "- **Telegram ID**: [Lucerfan](https://t.me/Lucerfan)\n",
    "- **Project GitHub Repository**: [Delivery Fare Estimation](https://github.com/Erfanm83/delivery-fare-estimation)\n"
   ]
  },
  {
   "cell_type": "markdown",
   "id": "e149af51",
   "metadata": {},
   "source": [
    "## Project Overview\n",
    "This project aims to build a high-performance, space- and time-efficient Golang program to estimate delivery fares based on GPS data logs. The program filters out invalid GPS points, calculates distances using the Haversine formula, and estimates the fare for each delivery. It produces a CSV file with the delivery ID and the corresponding fare.\n",
    "\n",
    "Key requirements include:\n",
    "- Filtering invalid GPS data points (based on speed)\n",
    "- Fare calculation based on time of day, speed, distance, and idle time\n",
    "- Handling large datasets (several gigabytes)\n",
    "- Implementing concurrency for high performance\n",
    "- Ensuring thread-safe file writing"
   ]
  },
  {
   "cell_type": "markdown",
   "id": "3dcc6733",
   "metadata": {},
   "source": [
    "## Design Approach"
   ]
  },
  {
   "cell_type": "markdown",
   "id": "49de02c6",
   "metadata": {},
   "source": [
    "### 1. Data Ingestion\n",
    "The program reads data from a CSV file that contains GPS coordinates of delivery points in the format `(id_delivery, lat, lng, timestamp)`. \n",
    "Given the large potential size of the input data, the program uses **chunk-based processing**, where each chunk contains consecutive GPS points for one delivery. This avoids loading the entire dataset into memory, allowing the program to efficiently handle gigabyte-sized datasets."
   ]
  },
  {
   "cell_type": "markdown",
   "id": "fc3c051f",
   "metadata": {},
   "source": [
    "### 2. Concurrency for Efficiency\n",
    "To ensure the program runs efficiently, we make use of **Go's concurrency model** with **goroutines**. Each chunk of delivery data is processed in parallel by a separate goroutine, making the solution scalable for large datasets.\n",
    "\n",
    "The program uses a **sync.WaitGroup** to ensure all goroutines complete before exiting. This guarantees that the main thread waits for all concurrent processes to finish their tasks, such as filtering data, calculating fares, and writing to output files."
   ]
  },
  {
   "cell_type": "markdown",
   "id": "3d3edd55",
   "metadata": {},
   "source": [
    "### 3. Filtering Invalid Points\n",
    "For each delivery, we calculate the speed between consecutive points using the **Haversine formula** to compute the distance between two latitude/longitude pairs.\n",
    "\n",
    "A point is considered invalid if the speed between it and the previous point exceeds **100 km/h**. Such points are removed to ensure accurate fare estimation. The function `filterInvalidPoints()` handles this filtering logic."
   ]
  },
  {
   "cell_type": "markdown",
   "id": "c1c98ba4",
   "metadata": {},
   "source": [
    "### 4. Fare Calculation\n",
    "Once the valid points are determined, the program calculates the fare based on the following rules:\n",
    "- A base flag amount of **1.30** is charged for each delivery.\n",
    "- Distance-based fare is calculated using the **Haversine formula**.\n",
    "- Fares are adjusted based on the time of day: a **daytime rate** (5:00 AM to Midnight) and a **nighttime rate** (Midnight to 5:00 AM).\n",
    "- Idle time is charged based on how long the delivery vehicle is stationary (speed <= 10 km/h).\n",
    "- The minimum fare for any delivery is **3.47**."
   ]
  },
  {
   "cell_type": "markdown",
   "id": "ffdde62f",
   "metadata": {},
   "source": [
    "### 5. Output and File Writing\n",
    "The program produces two output files:\n",
    "1. **Filtered Data**: A CSV file (`filtered_data.csv`) containing only the valid GPS points for each delivery. This file is located in the `output_dataset/` folder and can be used for further processing.\n",
    "2. **Fare Estimates**: A CSV file (`fares.csv`) with the format `(id_delivery, fare_estimate)`.\n",
    "\n",
    "To ensure thread-safe writing of data (as multiple goroutines may attempt to write to the file at the same time), a **mutex (`sync.Mutex`)** is used to lock the file during write operations. This ensures that only one goroutine writes to the file at any given time, preventing data corruption."
   ]
  },
  {
   "cell_type": "markdown",
   "id": "5ceb0023",
   "metadata": {},
   "source": [
    "### 6. Testing\n",
    "The project includes a comprehensive suite of **unit tests** and **end-to-end tests**:\n",
    "- **Unit tests**: Test each individual function, including the `haversine()` function for distance calculation, `filterInvalidPoints()` for filtering, and `calculateFare()` for fare computation.\n",
    "- **End-to-end tests**: Simulate the entire flow from reading data, filtering invalid points, calculating fares, and writing results to the CSV files. Edge cases such as very short deliveries, idle time, and invalid GPS points are tested."
   ]
  },
  {
   "cell_type": "markdown",
   "id": "9f140a53",
   "metadata": {},
   "source": [
    "### 7. Handling Large Datasets\n",
    "Given that the input dataset can be several gigabytes, the program is designed to work efficiently with **chunk-based processing** and **concurrency**. \n",
    "\n",
    "By processing one delivery at a time (instead of loading the entire dataset into memory), the program scales effectively for large datasets, minimizing memory usage while maximizing processing speed. The chunked data is processed concurrently in multiple goroutines, making it highly performant even with large data sizes."
   ]
  },
  {
   "cell_type": "markdown",
   "id": "8ee78c25",
   "metadata": {},
   "source": [
    "### 8. Best Practices & Documentation\n",
    "The code is modular, with clearly defined functions and responsibilities, ensuring maintainability and extensibility. Each function has been documented with comments explaining its purpose, input, and output.\n",
    "\n",
    "Concurrency is handled carefully with synchronization mechanisms (like `sync.WaitGroup` and `sync.Mutex`) to ensure correct execution without race conditions. The test suite provides comprehensive coverage of the code, ensuring that the project is robust and reliable."
   ]
  },
  {
   "cell_type": "markdown",
   "id": "5d8b009c",
   "metadata": {},
   "source": [
    "### 9. Running the Project\n",
    "This project can run on various datasets located in the `input_dataset/` folder. You can test it using different datasets like:\n",
    "- `medium_data.csv` (50 deliveries)\n",
    "- `large_data.csv` (200 deliveries)\n",
    "- `huge_data.csv` (over 390,000 deliveries; file size: 1.19 GB)\n",
    "\n",
    "To test the largest dataset, you'll need to extract the `huge_data.zip` file from its compressed archive due to its size. Ensure you have sufficient system resources when running the program on large datasets."
   ]
  },
  {
   "cell_type": "markdown",
   "id": "ee33dff1",
   "metadata": {},
   "source": [
    "### Conclusion\n",
    "This project implements a highly performant delivery fare estimation system using Go. The solution uses concurrency for efficiency, handles large datasets effectively, and includes thorough testing to ensure correctness and reliability."
   ]
  }
 ],
 "metadata": {
  "kernelspec": {
   "display_name": "Python 3",
   "language": "python",
   "name": "python3"
  },
  "language_info": {
   "name": "python",
   "version": "3.11.4"
  }
 },
 "nbformat": 4,
 "nbformat_minor": 5
}
